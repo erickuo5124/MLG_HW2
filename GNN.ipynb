{
  "nbformat": 4,
  "nbformat_minor": 0,
  "metadata": {
    "colab": {
      "name": "GNN",
      "provenance": [],
      "collapsed_sections": [],
      "include_colab_link": true
    },
    "kernelspec": {
      "name": "python3",
      "display_name": "Python 3"
    },
    "language_info": {
      "name": "python"
    },
    "accelerator": "GPU"
  },
  "cells": [
    {
      "cell_type": "markdown",
      "metadata": {
        "id": "view-in-github",
        "colab_type": "text"
      },
      "source": [
        "<a href=\"https://colab.research.google.com/github/erickuo5124/MLG_HW2/blob/main/GNN.ipynb\" target=\"_parent\"><img src=\"https://colab.research.google.com/assets/colab-badge.svg\" alt=\"Open In Colab\"/></a>"
      ]
    },
    {
      "cell_type": "code",
      "metadata": {
        "id": "Bio_eLgY-51d"
      },
      "source": [
        "!pip install -q torch-scatter -f https://pytorch-geometric.com/whl/torch-1.8.0+cu101.html\n",
        "!pip install -q torch-sparse -f https://pytorch-geometric.com/whl/torch-1.8.0+cu101.html\n",
        "!pip install -q torch-geometric"
      ],
      "execution_count": null,
      "outputs": []
    },
    {
      "cell_type": "code",
      "metadata": {
        "id": "a822mFE5fhmh"
      },
      "source": [
        "# hyperparameter\n",
        "LR = 0.0000004\n",
        "HIDDEN_LAYER = 4096\n",
        "EMBEDDING_DIM = 4096\n",
        "NUM_EPOCH = 60\n",
        "DATASET = 3"
      ],
      "execution_count": null,
      "outputs": []
    },
    {
      "cell_type": "code",
      "metadata": {
        "id": "CuYMtXHTrD8I"
      },
      "source": [
        "import pandas as pd\n",
        "\n",
        "train = pd.read_csv(f'/content/drive/MyDrive/MLG/hw2/hw2_data/dataset{DATASET}/train.csv')\n",
        "test = pd.read_csv(f'/content/drive/MyDrive/MLG/hw2/hw2_data/dataset{DATASET}/test.csv')\n",
        "content = pd.read_csv(f'/content/drive/MyDrive/MLG/hw2/hw2_data/dataset{DATASET}/content.csv', delimiter='\\t', header=None, index_col=0).sort_index()"
      ],
      "execution_count": null,
      "outputs": []
    },
    {
      "cell_type": "code",
      "metadata": {
        "id": "mUsG5_IGrgYz",
        "colab": {
          "base_uri": "https://localhost:8080/"
        },
        "outputId": "23ba6ff3-4e38-46de-ad2f-7026748b553b"
      },
      "source": [
        "import torch\n",
        "from torch_geometric.data import Data\n",
        "\n",
        "edge_index = train.loc[train['label'] == 1]\n",
        "x = torch.tensor(content.values, dtype=torch.float)\n",
        "data = Data(x=x)\n",
        "data"
      ],
      "execution_count": null,
      "outputs": [
        {
          "output_type": "execute_result",
          "data": {
            "text/plain": [
              "Data(x=[877, 1703])"
            ]
          },
          "metadata": {
            "tags": []
          },
          "execution_count": 27
        }
      ]
    },
    {
      "cell_type": "code",
      "metadata": {
        "id": "Lax74mepSXrk"
      },
      "source": [
        "from torch.nn import Linear, CosineSimilarity, Softmax\n",
        "from torch_geometric.nn import GCNConv\n",
        "from torch_geometric.utils import dropout_adj\n",
        "import torch.nn.functional as F\n",
        "\n",
        "class Net(torch.nn.Module):\n",
        "  def __init__(self, hidden_layer=HIDDEN_LAYER, embedding_dim=EMBEDDING_DIM):\n",
        "    super(Net, self).__init__()\n",
        "    torch.manual_seed(12345)\n",
        "    self.classifier = Linear(data.num_features, hidden_layer)\n",
        "    self.conv1 = GCNConv(hidden_layer, hidden_layer)\n",
        "    self.conv2 = GCNConv(hidden_layer, hidden_layer)\n",
        "    self.conv3 = GCNConv(hidden_layer, EMBEDDING_DIM)\n",
        "    self.similarity = torch.nn.CosineSimilarity(dim=1, eps=1e-6)\n",
        "\n",
        "  def forward(self, x, train_edges, pred_edges):\n",
        "    train_edges = train_edges.loc[train_edges['label'] == 1]\n",
        "    train_edges = torch.tensor([train_edges['from'].values, train_edges['to'].values]).cuda()\n",
        "\n",
        "    # Encoder\n",
        "    h = self.classifier(x.cuda())\n",
        "    h = self.conv1(h, train_edges)\n",
        "    h = torch.tanh(h)\n",
        "    dropout_adj(train_edges, p=0.4)\n",
        "    h = self.conv3(h, train_edges)\n",
        "    h = torch.tanh(h)\n",
        "    nodes = torch.squeeze(h)\n",
        "    \n",
        "    # Decoder\n",
        "    ids_from = torch.tensor(pred_edges['from'].values).cuda()\n",
        "    ids_to = torch.tensor(pred_edges['to'].values).cuda()\n",
        "    preds = self.similarity(torch.index_select(nodes, 0, ids_from), torch.index_select(nodes, 0, ids_to))\n",
        "    preds = torch.tanh(torch.abs(preds))\n",
        "    preds = F.normalize(preds,dim=0,p=100)\n",
        "    \n",
        "    return preds"
      ],
      "execution_count": null,
      "outputs": []
    },
    {
      "cell_type": "code",
      "metadata": {
        "colab": {
          "base_uri": "https://localhost:8080/",
          "height": 300
        },
        "id": "KsA3fRXoVkN1",
        "outputId": "6d6c525c-84dc-4fb5-e364-b78717e937e5"
      },
      "source": [
        "from IPython.display import Javascript  # Restrict height of output cell.\n",
        "display(Javascript('''google.colab.output.setIframeHeight(0, true, {maxHeight: 300})'''))\n",
        "\n",
        "from sklearn.metrics import roc_auc_score, average_precision_score\n",
        "from sklearn.model_selection import train_test_split\n",
        "\n",
        "model = Net().cuda()\n",
        "criterion = torch.nn.BCELoss()\n",
        "optimizer = torch.optim.Rprop(model.parameters(), lr=LR)\n",
        "torch.set_printoptions(precision=8, sci_mode=False)\n",
        "\n",
        "train_data, test_data = train_test_split(train, shuffle=True, test_size=0.2)\n",
        "\n",
        "for epoch in range(NUM_EPOCH):\n",
        "  optimizer.zero_grad()\n",
        "  train_edges, test_edges = train_test_split(train_data, shuffle=True)\n",
        "  out = model(x, train_edges, test_edges)\n",
        "  label = torch.tensor(test_edges['label'].values, dtype=torch.float).cuda()\n",
        "  loss = criterion(out, label)\n",
        "\n",
        "  print(f'Epoch: {epoch:03d}, Loss: {loss:.6f}')\n",
        "  loss.backward()\n",
        "  optimizer.step()\n",
        "\n",
        "  pred = model(x, train_data, test_data)\n",
        "  y = torch.tensor(test_data['label'].values, dtype=torch.float).cuda()\n",
        "  print(f'roc_auc_score: {roc_auc_score(y.cpu().detach().numpy(), pred.cpu().detach().numpy())}, average_precision_score: {average_precision_score(y.cpu().detach().numpy(), pred.cpu().detach().numpy())}')\n"
      ],
      "execution_count": null,
      "outputs": [
        {
          "output_type": "display_data",
          "data": {
            "application/javascript": [
              "google.colab.output.setIframeHeight(0, true, {maxHeight: 300})"
            ],
            "text/plain": [
              "<IPython.core.display.Javascript object>"
            ]
          },
          "metadata": {
            "tags": []
          }
        },
        {
          "output_type": "stream",
          "text": [
            "Epoch: 000, Loss: 0.502727\n",
            "roc_auc_score: 0.8594513851167843, average_precision_score: 0.8775211398176048\n",
            "Epoch: 001, Loss: 0.522951\n",
            "roc_auc_score: 0.8603566902045989, average_precision_score: 0.8782061233406864\n",
            "Epoch: 002, Loss: 0.514393\n",
            "roc_auc_score: 0.8614883215643672, average_precision_score: 0.8791726074641626\n",
            "Epoch: 003, Loss: 0.491055\n",
            "roc_auc_score: 0.8626953950147866, average_precision_score: 0.8800394940912433\n",
            "Epoch: 004, Loss: 0.511394\n",
            "roc_auc_score: 0.8639477337195969, average_precision_score: 0.8808084209472744\n",
            "Epoch: 005, Loss: 0.525319\n",
            "roc_auc_score: 0.8654113102782306, average_precision_score: 0.8819554126514614\n",
            "Epoch: 006, Loss: 0.511169\n",
            "roc_auc_score: 0.8672520972901201, average_precision_score: 0.8832246033470358\n",
            "Epoch: 007, Loss: 0.511457\n",
            "roc_auc_score: 0.8693041221558331, average_precision_score: 0.8849421599402322\n",
            "Epoch: 008, Loss: 0.513558\n",
            "roc_auc_score: 0.8720049490011467, average_precision_score: 0.8871443233240144\n",
            "Epoch: 009, Loss: 0.502690\n",
            "roc_auc_score: 0.8751282515541071, average_precision_score: 0.8893393940088987\n",
            "Epoch: 010, Loss: 0.519146\n",
            "roc_auc_score: 0.8780403162532439, average_precision_score: 0.8914250670859838\n",
            "Epoch: 011, Loss: 0.481169\n",
            "roc_auc_score: 0.8817068018588932, average_precision_score: 0.8939525807734668\n",
            "Epoch: 012, Loss: 0.486619\n",
            "roc_auc_score: 0.8859617357716216, average_precision_score: 0.8966887417915754\n",
            "Epoch: 013, Loss: 0.485153\n",
            "roc_auc_score: 0.8911370631902953, average_precision_score: 0.9002385877373622\n",
            "Epoch: 014, Loss: 0.478670\n",
            "roc_auc_score: 0.89578429597441, average_precision_score: 0.903267354891742\n",
            "Epoch: 015, Loss: 0.496397\n",
            "roc_auc_score: 0.9000090530508782, average_precision_score: 0.9059233065069553\n",
            "Epoch: 016, Loss: 0.455297\n",
            "roc_auc_score: 0.9050787615426399, average_precision_score: 0.9093181261737693\n",
            "Epoch: 017, Loss: 0.445935\n",
            "roc_auc_score: 0.9108425372683928, average_precision_score: 0.9129689732620099\n",
            "Epoch: 018, Loss: 0.480514\n",
            "roc_auc_score: 0.9145995533828233, average_precision_score: 0.9152861740151716\n",
            "Epoch: 019, Loss: 0.472366\n",
            "roc_auc_score: 0.9182056853159515, average_precision_score: 0.9174896120900827\n",
            "Epoch: 020, Loss: 0.447742\n",
            "roc_auc_score: 0.9212233689420002, average_precision_score: 0.9194119810316526\n",
            "Epoch: 021, Loss: 0.454516\n",
            "roc_auc_score: 0.9239694610417045, average_precision_score: 0.9211622870552588\n",
            "Epoch: 022, Loss: 0.427498\n",
            "roc_auc_score: 0.9265948457963666, average_precision_score: 0.9229633110893094\n",
            "Epoch: 023, Loss: 0.412422\n",
            "roc_auc_score: 0.9290995232059871, average_precision_score: 0.9244367823887789\n",
            "Epoch: 024, Loss: 0.424175\n",
            "roc_auc_score: 0.9315438469430866, average_precision_score: 0.92603403801622\n",
            "Epoch: 025, Loss: 0.408027\n",
            "roc_auc_score: 0.9335053413000182, average_precision_score: 0.9271101531624641\n",
            "Epoch: 026, Loss: 0.397967\n",
            "roc_auc_score: 0.9356478966745126, average_precision_score: 0.9286267721283522\n",
            "Epoch: 027, Loss: 0.373502\n",
            "roc_auc_score: 0.9376697447039652, average_precision_score: 0.9298390017853144\n",
            "Epoch: 028, Loss: 0.345217\n",
            "roc_auc_score: 0.9395256201339851, average_precision_score: 0.9308803264316107\n",
            "Epoch: 029, Loss: 0.368487\n",
            "roc_auc_score: 0.9412607882189632, average_precision_score: 0.9315342278672063\n",
            "Epoch: 030, Loss: 0.373687\n",
            "roc_auc_score: 0.9433731667571972, average_precision_score: 0.9328740377926953\n",
            "Epoch: 031, Loss: 0.345957\n",
            "roc_auc_score: 0.9458627557486873, average_precision_score: 0.934573572613189\n",
            "Epoch: 032, Loss: 0.329382\n",
            "roc_auc_score: 0.948623936266522, average_precision_score: 0.9365888082585913\n",
            "Epoch: 033, Loss: 0.333828\n",
            "roc_auc_score: 0.9508570221497977, average_precision_score: 0.9377976372980147\n",
            "Epoch: 034, Loss: 0.336523\n",
            "roc_auc_score: 0.9530448427786831, average_precision_score: 0.9392479062905797\n",
            "Epoch: 035, Loss: 0.296444\n",
            "roc_auc_score: 0.9546894803548795, average_precision_score: 0.9402176262271897\n",
            "Epoch: 036, Loss: 0.287189\n",
            "roc_auc_score: 0.9558060232965175, average_precision_score: 0.9405744529987563\n",
            "Epoch: 037, Loss: 0.294428\n",
            "roc_auc_score: 0.9562134105860342, average_precision_score: 0.9404536356321287\n",
            "Epoch: 038, Loss: 0.285241\n",
            "roc_auc_score: 0.9562888526766855, average_precision_score: 0.9402469147226258\n",
            "Epoch: 039, Loss: 0.280769\n",
            "roc_auc_score: 0.9561832337497737, average_precision_score: 0.939955691335431\n",
            "Epoch: 040, Loss: 0.264400\n",
            "roc_auc_score: 0.9558060232965175, average_precision_score: 0.9395133512866252\n",
            "Epoch: 041, Loss: 0.265172\n",
            "roc_auc_score: 0.9557607580421269, average_precision_score: 0.939550740690322\n",
            "Epoch: 042, Loss: 0.274887\n",
            "roc_auc_score: 0.9561530569135132, average_precision_score: 0.940311138100044\n",
            "Epoch: 043, Loss: 0.278466\n",
            "roc_auc_score: 0.9563190295129459, average_precision_score: 0.9405851190548947\n",
            "Epoch: 044, Loss: 0.265632\n",
            "roc_auc_score: 0.9567113283843321, average_precision_score: 0.9410540915540376\n",
            "Epoch: 045, Loss: 0.275104\n",
            "roc_auc_score: 0.9568169473112439, average_precision_score: 0.9411761510071052\n",
            "Epoch: 046, Loss: 0.264435\n",
            "roc_auc_score: 0.9571187156738488, average_precision_score: 0.9414006546547724\n",
            "Epoch: 047, Loss: 0.260755\n",
            "roc_auc_score: 0.9575864566358864, average_precision_score: 0.9420694069216184\n",
            "Epoch: 048, Loss: 0.234657\n",
            "roc_auc_score: 0.9577976944897097, average_precision_score: 0.9421844192757687\n",
            "Epoch: 049, Loss: 0.240432\n",
            "roc_auc_score: 0.9580843744341844, average_precision_score: 0.9424822137164077\n",
            "Epoch: 050, Loss: 0.245550\n",
            "roc_auc_score: 0.9582654354517472, average_precision_score: 0.9426710255132291\n",
            "Epoch: 051, Loss: 0.227755\n",
            "roc_auc_score: 0.9584012312149195, average_precision_score: 0.9428348100660248\n",
            "Epoch: 052, Loss: 0.254155\n",
            "roc_auc_score: 0.9583861427967891, average_precision_score: 0.9426540236023794\n",
            "Epoch: 053, Loss: 0.239424\n",
            "roc_auc_score: 0.9585672038143521, average_precision_score: 0.9429421903289081\n",
            "Epoch: 054, Loss: 0.212307\n",
            "roc_auc_score: 0.9587784416681755, average_precision_score: 0.9430269571789792\n",
            "Epoch: 055, Loss: 0.228876\n",
            "roc_auc_score: 0.9590047679401291, average_precision_score: 0.9434059398155736\n",
            "Epoch: 056, Loss: 0.223660\n",
            "roc_auc_score: 0.9592310942120829, average_precision_score: 0.9435943283516679\n",
            "Epoch: 057, Loss: 0.222001\n",
            "roc_auc_score: 0.9592914478846037, average_precision_score: 0.943656286510683\n",
            "Epoch: 058, Loss: 0.213256\n",
            "roc_auc_score: 0.9592914478846037, average_precision_score: 0.9435693888312567\n",
            "Epoch: 059, Loss: 0.232035\n",
            "roc_auc_score: 0.9592612710483432, average_precision_score: 0.943569486017009\n"
          ],
          "name": "stdout"
        }
      ]
    },
    {
      "cell_type": "code",
      "metadata": {
        "id": "6UeZyC7MQOYZ"
      },
      "source": [
        "\n",
        "import csv\n",
        "\n",
        "upload = model(data.x, edge_index, test)\n",
        "upload = upload.tolist()\n",
        "\n",
        "with open('/content/drive/MyDrive/MLG/hw2/hw2_data/upload.csv', 'w') as f:\n",
        "  writer = csv.writer(f)\n",
        "  writer.writerow(['id', 'prob'])\n",
        "  for pred, (_, edge) in zip(upload, test.iterrows()):\n",
        "    writer.writerow([edge['id'], pred])"
      ],
      "execution_count": null,
      "outputs": []
    },
    {
      "cell_type": "code",
      "metadata": {
        "id": "ifw7zaabS7og"
      },
      "source": [
        "# new feature\n",
        "# softmax\n",
        "# xgboost\n",
        "# random forest"
      ],
      "execution_count": null,
      "outputs": []
    },
    {
      "cell_type": "code",
      "metadata": {
        "id": "_-NDUnaTaLIf"
      },
      "source": [
        "# dropout\n",
        "# ranger\n",
        "# optim\n"
      ],
      "execution_count": null,
      "outputs": []
    },
    {
      "cell_type": "code",
      "metadata": {
        "id": "C2uaVIrwIzxK"
      },
      "source": [
        ""
      ],
      "execution_count": null,
      "outputs": []
    }
  ]
}