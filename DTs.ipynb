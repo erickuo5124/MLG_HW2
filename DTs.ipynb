{
  "nbformat": 4,
  "nbformat_minor": 0,
  "metadata": {
    "colab": {
      "name": "DTs",
      "provenance": [],
      "collapsed_sections": []
    },
    "kernelspec": {
      "name": "python3",
      "display_name": "Python 3"
    },
    "language_info": {
      "name": "python"
    }
  },
  "cells": [
    {
      "cell_type": "code",
      "metadata": {
        "id": "CuYMtXHTrD8I"
      },
      "source": [
        "import pandas as pd\n",
        "\n",
        "data = pd.read_csv('/content/drive/MyDrive/MLG/hw2/hw2_data/dataset1/train.csv')\n",
        "test = pd.read_csv('/content/drive/MyDrive/MLG/hw2/hw2_data/dataset1/test.csv')\n",
        "content = pd.read_csv('/content/drive/MyDrive/MLG/hw2/hw2_data/dataset1/content.csv', delimiter='\\t', header=None, index_col=0).sort_index()"
      ],
      "execution_count": null,
      "outputs": []
    },
    {
      "cell_type": "code",
      "metadata": {
        "id": "GuvJ0iW8cFyw"
      },
      "source": [
        "attr = content.values.tolist()"
      ],
      "execution_count": null,
      "outputs": []
    },
    {
      "cell_type": "code",
      "metadata": {
        "id": "mUsG5_IGrgYz"
      },
      "source": [
        "import numpy as np\n",
        "from sklearn.model_selection import train_test_split\n",
        "\n",
        "# 切分訓練與測試資料\n",
        "train_data, test_data = train_test_split(data, shuffle=True)\n",
        "\n",
        "train_edge = np.array([train_data['from'].values.tolist(), train_data['to'].values.tolist()])\n",
        "train_x = np.array([np.array(attr[train_edge[0][i]])*np.array(attr[train_edge[1][i]]) for i in range(len(train_edge[0]))])\n",
        "train_y = np.array(train_data['label'].values.tolist())\n",
        "\n",
        "test_edge = np.array([test_data['from'].values.tolist(), test_data['to'].values.tolist()])\n",
        "test_x = np.array([np.array(attr[test_edge[0][i]])*np.array(attr[test_edge[1][i]]) for i in range(len(test_edge[0]))])\n",
        "test_y = np.array(test_data['label'].values.tolist())"
      ],
      "execution_count": null,
      "outputs": []
    },
    {
      "cell_type": "code",
      "metadata": {
        "colab": {
          "base_uri": "https://localhost:8080/"
        },
        "id": "PUyo_NQicqJA",
        "outputId": "52bb3684-0925-4937-fcc1-7540cd049ecb"
      },
      "source": [
        "from sklearn import tree\n",
        "from sklearn.metrics import roc_auc_score, average_precision_score\n",
        "\n",
        "# 建立分類器\n",
        "clf = tree.DecisionTreeClassifier()\n",
        "edge_clf = clf.fit(train_x, train_y)\n",
        "\n",
        "# 預測\n",
        "test_y_predicted = edge_clf.predict(test_x)\n",
        "print(f'roc_auc_score: {roc_auc_score(test_y, test_y_predicted)}, average_precision_score: {average_precision_score(test_y, test_y_predicted)}')"
      ],
      "execution_count": null,
      "outputs": [
        {
          "output_type": "stream",
          "text": [
            "roc_auc_score: 0.7398123274319152, average_precision_score: 0.7123248894524846\n"
          ],
          "name": "stdout"
        }
      ]
    },
    {
      "cell_type": "code",
      "metadata": {
        "colab": {
          "base_uri": "https://localhost:8080/"
        },
        "id": "btLvnhBIhys-",
        "outputId": "fa889d92-c398-4d9f-d585-49a811398161"
      },
      "source": [
        "from sklearn.ensemble import RandomForestClassifier\n",
        "\n",
        "rfc = RandomForestClassifier()\n",
        "edge_clf = rfc.fit(train_x, train_y)\n",
        "test_y_predicted = edge_clf.predict(test_x)\n",
        "print(f'roc_auc_score: {roc_auc_score(test_y, test_y_predicted)}, average_precision_score: {average_precision_score(test_y, test_y_predicted)}')"
      ],
      "execution_count": null,
      "outputs": [
        {
          "output_type": "stream",
          "text": [
            "roc_auc_score: 0.7601027682213218, average_precision_score: 0.7300845693489924\n"
          ],
          "name": "stdout"
        }
      ]
    },
    {
      "cell_type": "code",
      "metadata": {
        "colab": {
          "base_uri": "https://localhost:8080/"
        },
        "id": "AwAQs7mIiZYx",
        "outputId": "6bd9867d-b94a-4b4e-b54f-dcc9eaceb568"
      },
      "source": [
        "from xgboost import XGBClassifier\n",
        "\n",
        "xgbc = XGBClassifier()\n",
        "edge_clf = rfc.fit(train_x, train_y, 2)\n",
        "test_y_predicted = edge_clf.predict(test_x)\n",
        "print(f'roc_auc_score: {roc_auc_score(test_y, test_y_predicted)}, average_precision_score: {average_precision_score(test_y, test_y_predicted)}')"
      ],
      "execution_count": null,
      "outputs": [
        {
          "output_type": "stream",
          "text": [
            "roc_auc_score: 0.7578825195534711, average_precision_score: 0.7280535299551438\n"
          ],
          "name": "stdout"
        }
      ]
    },
    {
      "cell_type": "code",
      "metadata": {
        "colab": {
          "base_uri": "https://localhost:8080/"
        },
        "id": "M-yn6lD0kFhM",
        "outputId": "66e2730a-c4f2-4a25-f2e0-b3e0811d9ff4"
      },
      "source": [
        "test_y_predicted"
      ],
      "execution_count": null,
      "outputs": [
        {
          "output_type": "execute_result",
          "data": {
            "text/plain": [
              "array([0, 0, 0, ..., 0, 0, 1])"
            ]
          },
          "metadata": {
            "tags": []
          },
          "execution_count": 15
        }
      ]
    },
    {
      "cell_type": "code",
      "metadata": {
        "id": "6UeZyC7MQOYZ"
      },
      "source": [
        "import csv\n",
        "\n",
        "upload = model(data.x, edge_index, test)\n",
        "upload = upload.tolist()\n",
        "\n",
        "with open('/content/drive/MyDrive/MLG/hw2/hw2_data/upload.csv', 'w') as f:\n",
        "  writer = csv.writer(f)\n",
        "  writer.writerow(['id', 'prob'])\n",
        "  for pred, (_, edge) in zip(upload, test.iterrows()):\n",
        "    writer.writerow([edge['id'], pred])"
      ],
      "execution_count": null,
      "outputs": []
    }
  ]
}