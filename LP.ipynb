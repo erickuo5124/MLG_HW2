{
  "nbformat": 4,
  "nbformat_minor": 0,
  "metadata": {
    "colab": {
      "name": "LP.ipynb",
      "provenance": [],
      "mount_file_id": "1havoUSb0dqIOPR4--zWkYe_vIHDQIKrZ",
      "authorship_tag": "ABX9TyPExnM058PpwhTxp5C3OVFg",
      "include_colab_link": true
    },
    "kernelspec": {
      "name": "python3",
      "display_name": "Python 3"
    },
    "language_info": {
      "name": "python"
    }
  },
  "cells": [
    {
      "cell_type": "markdown",
      "metadata": {
        "id": "view-in-github",
        "colab_type": "text"
      },
      "source": [
        "<a href=\"https://colab.research.google.com/github/erickuo5124/MLG_HW2/blob/main/LP.ipynb\" target=\"_parent\"><img src=\"https://colab.research.google.com/assets/colab-badge.svg\" alt=\"Open In Colab\"/></a>"
      ]
    },
    {
      "cell_type": "code",
      "metadata": {
        "colab": {
          "base_uri": "https://localhost:8080/"
        },
        "id": "IYba-U8TUHn_",
        "outputId": "7b015689-aaee-4fd3-d9c5-b12992720f56"
      },
      "source": [
        "!ls '/content/drive/MyDrive/MLG/hw2/hw2_data'"
      ],
      "execution_count": null,
      "outputs": [
        {
          "output_type": "stream",
          "text": [
            "dataset1  dataset2  dataset3  README.md\n"
          ],
          "name": "stdout"
        }
      ]
    },
    {
      "cell_type": "code",
      "metadata": {
        "colab": {
          "base_uri": "https://localhost:8080/"
        },
        "id": "Bio_eLgY-51d",
        "outputId": "7c418ccb-45e3-4d10-a9fc-758a0f95fbf4"
      },
      "source": [
        "!pip install -q torch-scatter -f https://pytorch-geometric.com/whl/torch-1.8.0+cu101.html\n",
        "!pip install -q torch-sparse -f https://pytorch-geometric.com/whl/torch-1.8.0+cu101.html\n",
        "!pip install -q torch-geometric"
      ],
      "execution_count": null,
      "outputs": [
        {
          "output_type": "stream",
          "text": [
            "\u001b[K     |████████████████████████████████| 2.6MB 3.8MB/s \n",
            "\u001b[K     |████████████████████████████████| 1.5MB 306kB/s \n",
            "\u001b[K     |████████████████████████████████| 194kB 7.4MB/s \n",
            "\u001b[K     |████████████████████████████████| 235kB 12.9MB/s \n",
            "\u001b[K     |████████████████████████████████| 2.2MB 14.6MB/s \n",
            "\u001b[K     |████████████████████████████████| 51kB 7.6MB/s \n",
            "\u001b[?25h  Building wheel for torch-geometric (setup.py) ... \u001b[?25l\u001b[?25hdone\n"
          ],
          "name": "stdout"
        }
      ]
    },
    {
      "cell_type": "code",
      "metadata": {
        "id": "CuYMtXHTrD8I"
      },
      "source": [
        "import pandas as pd\n",
        "\n",
        "train = pd.read_csv('/content/drive/MyDrive/MLG/hw2/hw2_data/dataset1/train.csv')\n",
        "test = pd.read_csv('/content/drive/MyDrive/MLG/hw2/hw2_data/dataset1/test.csv')\n",
        "content = pd.read_csv('/content/drive/MyDrive/MLG/hw2/hw2_data/dataset1/content.csv', delimiter='\\t', header=None, index_col=0)\n",
        "upload = pd.read_csv('/content/drive/MyDrive/MLG/hw2/hw2_data/dataset1/upload.csv')"
      ],
      "execution_count": null,
      "outputs": []
    },
    {
      "cell_type": "code",
      "metadata": {
        "id": "mUsG5_IGrgYz"
      },
      "source": [
        "import torch\n",
        "import networkx as nx\n",
        "from torch_geometric.data import Data, ClusterData, ClusterLoader\n",
        "from torch_geometric.utils import from_networkx\n",
        "\n",
        "edge_index = torch.tensor([train['from'].values, train['from'].values], dtype=torch.long)\n",
        "x = torch.tensor(content.sort_index().values, dtype=torch.float)\n",
        "y = torch.tensor(train['label'].values, dtype=torch.float)\n",
        "train_data = Data(edge_index=edge_index, x=x, y=y)"
      ],
      "execution_count": null,
      "outputs": []
    },
    {
      "cell_type": "code",
      "metadata": {
        "id": "Lax74mepSXrk"
      },
      "source": [
        "from torch.nn import Linear\n",
        "from torch_geometric.nn import GCNConv\n",
        "\n",
        "class Net(torch.nn.Module):\n",
        "  def __init__(self, hidden_layer):\n",
        "    super(Net, self).__init__()\n",
        "    torch.manual_seed(12345)\n",
        "    self.conv1 = GCNConv(train_data.num_features, hidden_layer)\n",
        "    self.conv2 = GCNConv(hidden_layer, hidden_layer)\n",
        "    self.conv3 = GCNConv(hidden_layer, 2)\n",
        "    self.classifier = Linear(2, 1)\n",
        "\n",
        "  def forward(self, x, edge_index):\n",
        "    h = self.conv1(x, edge_index)\n",
        "    h = h.tanh()\n",
        "    h = self.conv2(h, edge_index)\n",
        "    h = h.tanh()\n",
        "    h = self.conv3(h, edge_index)\n",
        "    h = h.tanh()  # Final GNN embedding space.\n",
        "    \n",
        "    # Apply a final (linear) classifier.\n",
        "    nodes = self.classifier(h)\n",
        "    nodes = torch.squeeze(nodes)\n",
        "    ids_from, ids_to = edge_index[0], edge_index[1]\n",
        "    preds = torch.index_select(nodes, 0, ids_from) - torch.index_select(nodes, 0, ids_to)\n",
        "\n",
        "    return torch.abs(preds)"
      ],
      "execution_count": null,
      "outputs": []
    },
    {
      "cell_type": "code",
      "metadata": {
        "colab": {
          "base_uri": "https://localhost:8080/"
        },
        "id": "KsA3fRXoVkN1",
        "outputId": "f978c31b-6975-4384-b726-37f7d4669b3a"
      },
      "source": [
        "model = Net(128)\n",
        "criterion = torch.nn.BCELoss()\n",
        "optimizer = torch.optim.Adam(model.parameters(), lr=0.1)\n",
        "\n",
        "for epoch in range(100):\n",
        "  optimizer.zero_grad()\n",
        "  out = model(train_data.x, train_data.edge_index)\n",
        "  loss = criterion(out, train_data.y)\n",
        "  print(f'Epoch: {epoch:03d}, Loss: {loss:.6f}')\n",
        "  loss.backward()\n",
        "  optimizer.step()"
      ],
      "execution_count": null,
      "outputs": [
        {
          "output_type": "stream",
          "text": [
            "tensor([0., 0., 0.,  ..., 0., 0., 0.], grad_fn=<SubBackward0>)\n",
            "Epoch: 000, Loss: 49.781258\n",
            "tensor([0., 0., 0.,  ..., 0., 0., 0.], grad_fn=<SubBackward0>)\n",
            "Epoch: 001, Loss: 49.781258\n",
            "tensor([0., 0., 0.,  ..., 0., 0., 0.], grad_fn=<SubBackward0>)\n",
            "Epoch: 002, Loss: 49.781258\n",
            "tensor([0., 0., 0.,  ..., 0., 0., 0.], grad_fn=<SubBackward0>)\n",
            "Epoch: 003, Loss: 49.781258\n",
            "tensor([0., 0., 0.,  ..., 0., 0., 0.], grad_fn=<SubBackward0>)\n",
            "Epoch: 004, Loss: 49.781258\n",
            "tensor([0., 0., 0.,  ..., 0., 0., 0.], grad_fn=<SubBackward0>)\n",
            "Epoch: 005, Loss: 49.781258\n",
            "tensor([0., 0., 0.,  ..., 0., 0., 0.], grad_fn=<SubBackward0>)\n",
            "Epoch: 006, Loss: 49.781258\n",
            "tensor([0., 0., 0.,  ..., 0., 0., 0.], grad_fn=<SubBackward0>)\n",
            "Epoch: 007, Loss: 49.781258\n",
            "tensor([0., 0., 0.,  ..., 0., 0., 0.], grad_fn=<SubBackward0>)\n",
            "Epoch: 008, Loss: 49.781258\n",
            "tensor([0., 0., 0.,  ..., 0., 0., 0.], grad_fn=<SubBackward0>)\n",
            "Epoch: 009, Loss: 49.781258\n",
            "tensor([0., 0., 0.,  ..., 0., 0., 0.], grad_fn=<SubBackward0>)\n",
            "Epoch: 010, Loss: 49.781258\n",
            "tensor([0., 0., 0.,  ..., 0., 0., 0.], grad_fn=<SubBackward0>)\n",
            "Epoch: 011, Loss: 49.781258\n",
            "tensor([0., 0., 0.,  ..., 0., 0., 0.], grad_fn=<SubBackward0>)\n",
            "Epoch: 012, Loss: 49.781258\n",
            "tensor([0., 0., 0.,  ..., 0., 0., 0.], grad_fn=<SubBackward0>)\n",
            "Epoch: 013, Loss: 49.781258\n",
            "tensor([0., 0., 0.,  ..., 0., 0., 0.], grad_fn=<SubBackward0>)\n",
            "Epoch: 014, Loss: 49.781258\n",
            "tensor([0., 0., 0.,  ..., 0., 0., 0.], grad_fn=<SubBackward0>)\n",
            "Epoch: 015, Loss: 49.781258\n",
            "tensor([0., 0., 0.,  ..., 0., 0., 0.], grad_fn=<SubBackward0>)\n",
            "Epoch: 016, Loss: 49.781258\n",
            "tensor([0., 0., 0.,  ..., 0., 0., 0.], grad_fn=<SubBackward0>)\n",
            "Epoch: 017, Loss: 49.781258\n",
            "tensor([0., 0., 0.,  ..., 0., 0., 0.], grad_fn=<SubBackward0>)\n",
            "Epoch: 018, Loss: 49.781258\n",
            "tensor([0., 0., 0.,  ..., 0., 0., 0.], grad_fn=<SubBackward0>)\n",
            "Epoch: 019, Loss: 49.781258\n",
            "tensor([0., 0., 0.,  ..., 0., 0., 0.], grad_fn=<SubBackward0>)\n",
            "Epoch: 020, Loss: 49.781258\n",
            "tensor([0., 0., 0.,  ..., 0., 0., 0.], grad_fn=<SubBackward0>)\n",
            "Epoch: 021, Loss: 49.781258\n",
            "tensor([0., 0., 0.,  ..., 0., 0., 0.], grad_fn=<SubBackward0>)\n",
            "Epoch: 022, Loss: 49.781258\n",
            "tensor([0., 0., 0.,  ..., 0., 0., 0.], grad_fn=<SubBackward0>)\n",
            "Epoch: 023, Loss: 49.781258\n",
            "tensor([0., 0., 0.,  ..., 0., 0., 0.], grad_fn=<SubBackward0>)\n",
            "Epoch: 024, Loss: 49.781258\n",
            "tensor([0., 0., 0.,  ..., 0., 0., 0.], grad_fn=<SubBackward0>)\n",
            "Epoch: 025, Loss: 49.781258\n",
            "tensor([0., 0., 0.,  ..., 0., 0., 0.], grad_fn=<SubBackward0>)\n",
            "Epoch: 026, Loss: 49.781258\n",
            "tensor([0., 0., 0.,  ..., 0., 0., 0.], grad_fn=<SubBackward0>)\n",
            "Epoch: 027, Loss: 49.781258\n",
            "tensor([0., 0., 0.,  ..., 0., 0., 0.], grad_fn=<SubBackward0>)\n",
            "Epoch: 028, Loss: 49.781258\n",
            "tensor([0., 0., 0.,  ..., 0., 0., 0.], grad_fn=<SubBackward0>)\n",
            "Epoch: 029, Loss: 49.781258\n",
            "tensor([0., 0., 0.,  ..., 0., 0., 0.], grad_fn=<SubBackward0>)\n",
            "Epoch: 030, Loss: 49.781258\n",
            "tensor([0., 0., 0.,  ..., 0., 0., 0.], grad_fn=<SubBackward0>)\n",
            "Epoch: 031, Loss: 49.781258\n",
            "tensor([0., 0., 0.,  ..., 0., 0., 0.], grad_fn=<SubBackward0>)\n",
            "Epoch: 032, Loss: 49.781258\n",
            "tensor([0., 0., 0.,  ..., 0., 0., 0.], grad_fn=<SubBackward0>)\n",
            "Epoch: 033, Loss: 49.781258\n",
            "tensor([0., 0., 0.,  ..., 0., 0., 0.], grad_fn=<SubBackward0>)\n",
            "Epoch: 034, Loss: 49.781258\n",
            "tensor([0., 0., 0.,  ..., 0., 0., 0.], grad_fn=<SubBackward0>)\n",
            "Epoch: 035, Loss: 49.781258\n",
            "tensor([0., 0., 0.,  ..., 0., 0., 0.], grad_fn=<SubBackward0>)\n",
            "Epoch: 036, Loss: 49.781258\n",
            "tensor([0., 0., 0.,  ..., 0., 0., 0.], grad_fn=<SubBackward0>)\n",
            "Epoch: 037, Loss: 49.781258\n",
            "tensor([0., 0., 0.,  ..., 0., 0., 0.], grad_fn=<SubBackward0>)\n",
            "Epoch: 038, Loss: 49.781258\n",
            "tensor([0., 0., 0.,  ..., 0., 0., 0.], grad_fn=<SubBackward0>)\n",
            "Epoch: 039, Loss: 49.781258\n",
            "tensor([0., 0., 0.,  ..., 0., 0., 0.], grad_fn=<SubBackward0>)\n",
            "Epoch: 040, Loss: 49.781258\n",
            "tensor([0., 0., 0.,  ..., 0., 0., 0.], grad_fn=<SubBackward0>)\n",
            "Epoch: 041, Loss: 49.781258\n",
            "tensor([0., 0., 0.,  ..., 0., 0., 0.], grad_fn=<SubBackward0>)\n",
            "Epoch: 042, Loss: 49.781258\n",
            "tensor([0., 0., 0.,  ..., 0., 0., 0.], grad_fn=<SubBackward0>)\n",
            "Epoch: 043, Loss: 49.781258\n",
            "tensor([0., 0., 0.,  ..., 0., 0., 0.], grad_fn=<SubBackward0>)\n",
            "Epoch: 044, Loss: 49.781258\n",
            "tensor([0., 0., 0.,  ..., 0., 0., 0.], grad_fn=<SubBackward0>)\n",
            "Epoch: 045, Loss: 49.781258\n",
            "tensor([0., 0., 0.,  ..., 0., 0., 0.], grad_fn=<SubBackward0>)\n",
            "Epoch: 046, Loss: 49.781258\n",
            "tensor([0., 0., 0.,  ..., 0., 0., 0.], grad_fn=<SubBackward0>)\n",
            "Epoch: 047, Loss: 49.781258\n",
            "tensor([0., 0., 0.,  ..., 0., 0., 0.], grad_fn=<SubBackward0>)\n",
            "Epoch: 048, Loss: 49.781258\n",
            "tensor([0., 0., 0.,  ..., 0., 0., 0.], grad_fn=<SubBackward0>)\n",
            "Epoch: 049, Loss: 49.781258\n",
            "tensor([0., 0., 0.,  ..., 0., 0., 0.], grad_fn=<SubBackward0>)\n",
            "Epoch: 050, Loss: 49.781258\n",
            "tensor([0., 0., 0.,  ..., 0., 0., 0.], grad_fn=<SubBackward0>)\n",
            "Epoch: 051, Loss: 49.781258\n",
            "tensor([0., 0., 0.,  ..., 0., 0., 0.], grad_fn=<SubBackward0>)\n",
            "Epoch: 052, Loss: 49.781258\n",
            "tensor([0., 0., 0.,  ..., 0., 0., 0.], grad_fn=<SubBackward0>)\n",
            "Epoch: 053, Loss: 49.781258\n",
            "tensor([0., 0., 0.,  ..., 0., 0., 0.], grad_fn=<SubBackward0>)\n",
            "Epoch: 054, Loss: 49.781258\n",
            "tensor([0., 0., 0.,  ..., 0., 0., 0.], grad_fn=<SubBackward0>)\n",
            "Epoch: 055, Loss: 49.781258\n",
            "tensor([0., 0., 0.,  ..., 0., 0., 0.], grad_fn=<SubBackward0>)\n",
            "Epoch: 056, Loss: 49.781258\n",
            "tensor([0., 0., 0.,  ..., 0., 0., 0.], grad_fn=<SubBackward0>)\n",
            "Epoch: 057, Loss: 49.781258\n",
            "tensor([0., 0., 0.,  ..., 0., 0., 0.], grad_fn=<SubBackward0>)\n",
            "Epoch: 058, Loss: 49.781258\n",
            "tensor([0., 0., 0.,  ..., 0., 0., 0.], grad_fn=<SubBackward0>)\n",
            "Epoch: 059, Loss: 49.781258\n",
            "tensor([0., 0., 0.,  ..., 0., 0., 0.], grad_fn=<SubBackward0>)\n",
            "Epoch: 060, Loss: 49.781258\n",
            "tensor([0., 0., 0.,  ..., 0., 0., 0.], grad_fn=<SubBackward0>)\n",
            "Epoch: 061, Loss: 49.781258\n",
            "tensor([0., 0., 0.,  ..., 0., 0., 0.], grad_fn=<SubBackward0>)\n",
            "Epoch: 062, Loss: 49.781258\n",
            "tensor([0., 0., 0.,  ..., 0., 0., 0.], grad_fn=<SubBackward0>)\n",
            "Epoch: 063, Loss: 49.781258\n",
            "tensor([0., 0., 0.,  ..., 0., 0., 0.], grad_fn=<SubBackward0>)\n",
            "Epoch: 064, Loss: 49.781258\n",
            "tensor([0., 0., 0.,  ..., 0., 0., 0.], grad_fn=<SubBackward0>)\n",
            "Epoch: 065, Loss: 49.781258\n",
            "tensor([0., 0., 0.,  ..., 0., 0., 0.], grad_fn=<SubBackward0>)\n",
            "Epoch: 066, Loss: 49.781258\n",
            "tensor([0., 0., 0.,  ..., 0., 0., 0.], grad_fn=<SubBackward0>)\n",
            "Epoch: 067, Loss: 49.781258\n",
            "tensor([0., 0., 0.,  ..., 0., 0., 0.], grad_fn=<SubBackward0>)\n",
            "Epoch: 068, Loss: 49.781258\n",
            "tensor([0., 0., 0.,  ..., 0., 0., 0.], grad_fn=<SubBackward0>)\n",
            "Epoch: 069, Loss: 49.781258\n",
            "tensor([0., 0., 0.,  ..., 0., 0., 0.], grad_fn=<SubBackward0>)\n",
            "Epoch: 070, Loss: 49.781258\n",
            "tensor([0., 0., 0.,  ..., 0., 0., 0.], grad_fn=<SubBackward0>)\n",
            "Epoch: 071, Loss: 49.781258\n",
            "tensor([0., 0., 0.,  ..., 0., 0., 0.], grad_fn=<SubBackward0>)\n",
            "Epoch: 072, Loss: 49.781258\n",
            "tensor([0., 0., 0.,  ..., 0., 0., 0.], grad_fn=<SubBackward0>)\n",
            "Epoch: 073, Loss: 49.781258\n",
            "tensor([0., 0., 0.,  ..., 0., 0., 0.], grad_fn=<SubBackward0>)\n",
            "Epoch: 074, Loss: 49.781258\n",
            "tensor([0., 0., 0.,  ..., 0., 0., 0.], grad_fn=<SubBackward0>)\n",
            "Epoch: 075, Loss: 49.781258\n",
            "tensor([0., 0., 0.,  ..., 0., 0., 0.], grad_fn=<SubBackward0>)\n",
            "Epoch: 076, Loss: 49.781258\n",
            "tensor([0., 0., 0.,  ..., 0., 0., 0.], grad_fn=<SubBackward0>)\n",
            "Epoch: 077, Loss: 49.781258\n",
            "tensor([0., 0., 0.,  ..., 0., 0., 0.], grad_fn=<SubBackward0>)\n",
            "Epoch: 078, Loss: 49.781258\n",
            "tensor([0., 0., 0.,  ..., 0., 0., 0.], grad_fn=<SubBackward0>)\n",
            "Epoch: 079, Loss: 49.781258\n",
            "tensor([0., 0., 0.,  ..., 0., 0., 0.], grad_fn=<SubBackward0>)\n",
            "Epoch: 080, Loss: 49.781258\n",
            "tensor([0., 0., 0.,  ..., 0., 0., 0.], grad_fn=<SubBackward0>)\n",
            "Epoch: 081, Loss: 49.781258\n",
            "tensor([0., 0., 0.,  ..., 0., 0., 0.], grad_fn=<SubBackward0>)\n",
            "Epoch: 082, Loss: 49.781258\n",
            "tensor([0., 0., 0.,  ..., 0., 0., 0.], grad_fn=<SubBackward0>)\n",
            "Epoch: 083, Loss: 49.781258\n",
            "tensor([0., 0., 0.,  ..., 0., 0., 0.], grad_fn=<SubBackward0>)\n",
            "Epoch: 084, Loss: 49.781258\n",
            "tensor([0., 0., 0.,  ..., 0., 0., 0.], grad_fn=<SubBackward0>)\n",
            "Epoch: 085, Loss: 49.781258\n",
            "tensor([0., 0., 0.,  ..., 0., 0., 0.], grad_fn=<SubBackward0>)\n",
            "Epoch: 086, Loss: 49.781258\n",
            "tensor([0., 0., 0.,  ..., 0., 0., 0.], grad_fn=<SubBackward0>)\n",
            "Epoch: 087, Loss: 49.781258\n",
            "tensor([0., 0., 0.,  ..., 0., 0., 0.], grad_fn=<SubBackward0>)\n",
            "Epoch: 088, Loss: 49.781258\n",
            "tensor([0., 0., 0.,  ..., 0., 0., 0.], grad_fn=<SubBackward0>)\n",
            "Epoch: 089, Loss: 49.781258\n",
            "tensor([0., 0., 0.,  ..., 0., 0., 0.], grad_fn=<SubBackward0>)\n",
            "Epoch: 090, Loss: 49.781258\n",
            "tensor([0., 0., 0.,  ..., 0., 0., 0.], grad_fn=<SubBackward0>)\n",
            "Epoch: 091, Loss: 49.781258\n",
            "tensor([0., 0., 0.,  ..., 0., 0., 0.], grad_fn=<SubBackward0>)\n",
            "Epoch: 092, Loss: 49.781258\n",
            "tensor([0., 0., 0.,  ..., 0., 0., 0.], grad_fn=<SubBackward0>)\n",
            "Epoch: 093, Loss: 49.781258\n",
            "tensor([0., 0., 0.,  ..., 0., 0., 0.], grad_fn=<SubBackward0>)\n",
            "Epoch: 094, Loss: 49.781258\n",
            "tensor([0., 0., 0.,  ..., 0., 0., 0.], grad_fn=<SubBackward0>)\n",
            "Epoch: 095, Loss: 49.781258\n",
            "tensor([0., 0., 0.,  ..., 0., 0., 0.], grad_fn=<SubBackward0>)\n",
            "Epoch: 096, Loss: 49.781258\n",
            "tensor([0., 0., 0.,  ..., 0., 0., 0.], grad_fn=<SubBackward0>)\n",
            "Epoch: 097, Loss: 49.781258\n",
            "tensor([0., 0., 0.,  ..., 0., 0., 0.], grad_fn=<SubBackward0>)\n",
            "Epoch: 098, Loss: 49.781258\n",
            "tensor([0., 0., 0.,  ..., 0., 0., 0.], grad_fn=<SubBackward0>)\n",
            "Epoch: 099, Loss: 49.781258\n"
          ],
          "name": "stdout"
        }
      ]
    },
    {
      "cell_type": "code",
      "metadata": {
        "id": "mCV2qVJr1RF5"
      },
      "source": [
        ""
      ],
      "execution_count": null,
      "outputs": []
    }
  ]
}